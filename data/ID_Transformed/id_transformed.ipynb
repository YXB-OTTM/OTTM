{
 "cells": [
  {
   "cell_type": "code",
   "execution_count": 4,
   "metadata": {},
   "outputs": [],
   "source": [
    "\n",
    "\n",
    "with open ('gene2pubmed' , 'r' ) as f:\n",
    "    gene2pubmed = f.readlines()"
   ]
  },
  {
   "cell_type": "code",
   "execution_count": 5,
   "metadata": {},
   "outputs": [],
   "source": [
    "human_gene = [i for i in gene2pubmed if i.split()[0] == '9606'] "
   ]
  },
  {
   "cell_type": "code",
   "execution_count": 8,
   "metadata": {},
   "outputs": [],
   "source": [
    "geneid_pubmedid = {}\n",
    "\n",
    "for i in human_gene:\n",
    "    i = i.replace('\\n','').split('\\t')[-2:]\n",
    "    symbol = geneid_to_symbol[i[0]]\n",
    "    if symbol in geneid_pubmedid:\n",
    "        geneid_pubmedid[symbol].append(i[1])\n",
    "    else:\n",
    "        geneid_pubmedid[symbol] = [i[1]]"
   ]
  },
  {
   "cell_type": "code",
   "execution_count": 14,
   "metadata": {},
   "outputs": [],
   "source": [
    "# 将geneid_pubmedid导出为json文件\n",
    "with open ('Symbol_To_PubMedID_2.json' , 'w' ) as f:\n",
    "    json.dump(geneid_pubmedid, f, indent=4)\n"
   ]
  },
  {
   "cell_type": "code",
   "execution_count": 1,
   "metadata": {},
   "outputs": [],
   "source": [
    "import json"
   ]
  },
  {
   "cell_type": "code",
   "execution_count": 2,
   "metadata": {},
   "outputs": [],
   "source": [
    "with open ('Symbol_To_PubMedID_2.json' , 'r' ) as f:\n",
    "    geneid_pubmedid_2 = json.load(f)\n",
    "    \n"
   ]
  },
  {
   "cell_type": "code",
   "execution_count": 3,
   "metadata": {},
   "outputs": [],
   "source": [
    "with open ('Symbol_To_PubMedID.json' , 'r' ) as f:\n",
    "    geneid_pubmedid_1 = json.load(f)"
   ]
  },
  {
   "cell_type": "code",
   "execution_count": 6,
   "metadata": {},
   "outputs": [
    {
     "ename": "AttributeError",
     "evalue": "'list' object has no attribute 'tolist'",
     "output_type": "error",
     "traceback": [
      "\u001b[1;31m---------------------------------------------------------------------------\u001b[0m",
      "\u001b[1;31mAttributeError\u001b[0m                            Traceback (most recent call last)",
      "\u001b[1;32mf:\\Project\\OTTM\\OTTM\\data\\ID_Transformed\\id_transformed.ipynb 单元格 8\u001b[0m in \u001b[0;36m<cell line: 1>\u001b[1;34m()\u001b[0m\n\u001b[1;32m----> <a href='vscode-notebook-cell:/f%3A/Project/OTTM/OTTM/data/ID_Transformed/id_transformed.ipynb#X11sZmlsZQ%3D%3D?line=0'>1</a>\u001b[0m new_list \u001b[39m=\u001b[39m geneid_pubmedid_2[\u001b[39m'\u001b[39;49m\u001b[39mSMN1\u001b[39;49m\u001b[39m'\u001b[39;49m]\u001b[39m.\u001b[39;49mtolist()\n",
      "\u001b[1;31mAttributeError\u001b[0m: 'list' object has no attribute 'tolist'"
     ]
    }
   ],
   "source": [
    "new_list = geneid_pubmedid_2['SMN1']"
   ]
  },
  {
   "cell_type": "code",
   "execution_count": 7,
   "metadata": {},
   "outputs": [],
   "source": [
    "old_list = geneid_pubmedid_1['SMN1']"
   ]
  },
  {
   "cell_type": "code",
   "execution_count": 9,
   "metadata": {},
   "outputs": [
    {
     "name": "stdout",
     "output_type": "stream",
     "text": [
      "35439318\n",
      "35850772\n",
      "35944360\n",
      "36114006\n",
      "36244648\n",
      "36604149\n",
      "36675308\n",
      "36769246\n"
     ]
    }
   ],
   "source": [
    "# 找出两个列表的差别\n",
    "for i in new_list:\n",
    "    i = int(i)\n",
    "    if i not in old_list:\n",
    "        print(i)\n"
   ]
  },
  {
   "cell_type": "code",
   "execution_count": null,
   "metadata": {},
   "outputs": [],
   "source": []
  },
  {
   "attachments": {},
   "cell_type": "markdown",
   "metadata": {},
   "source": [
    "将symbol转化为全称，并保存到json文件中"
   ]
  },
  {
   "cell_type": "code",
   "execution_count": 1,
   "metadata": {},
   "outputs": [],
   "source": [
    "with open ('symbol_to_fullname.txt', 'r') as f:\n",
    "    symbol_to_fullname = f.readlines()"
   ]
  },
  {
   "cell_type": "code",
   "execution_count": 4,
   "metadata": {},
   "outputs": [],
   "source": [
    "a = symbol_to_fullname[1].replace('\\n','').split('\\t')"
   ]
  },
  {
   "cell_type": "code",
   "execution_count": 8,
   "metadata": {},
   "outputs": [],
   "source": [
    "a\n",
    "symbol_to_fullname_dict = {}\n",
    "for i in symbol_to_fullname[1:]:\n",
    "    i = i.replace('\\n','').split('\\t')\n",
    "    if i[1].startswith('symbol withdrawn')!=True:\n",
    "        symbol_to_fullname_dict[i[0]] = i[1]"
   ]
  },
  {
   "cell_type": "code",
   "execution_count": 11,
   "metadata": {},
   "outputs": [],
   "source": [
    "import json\n",
    "\n",
    "with open ('Symbol_to_Fullname.json', 'w') as f:\n",
    "    json.dump(symbol_to_fullname_dict, f, indent=4)"
   ]
  },
  {
   "cell_type": "code",
   "execution_count": 13,
   "metadata": {},
   "outputs": [],
   "source": [
    "import pandas as pd\n",
    "\n",
    "# create a dictionary\n",
    "data = {'name': ['John', 'Peter', 'Amy', 'David', 'Tom'],\n",
    "        'age': [25, 30, 21, 35, 42],\n",
    "        'gender': ['M', 'M', 'F', 'M', 'M'],\n",
    "        'country': ['USA', 'Canada', 'UK', 'USA', 'Mexico']}\n",
    "\n",
    "# create a dataframe from dictionary\n",
    "df = pd.DataFrame(data)\n",
    "\n",
    "# write dataframe to excel\n",
    "df.to_excel('output.xlsx', index=False)"
   ]
  }
 ],
 "metadata": {
  "kernelspec": {
   "display_name": "Nur77",
   "language": "python",
   "name": "python3"
  },
  "language_info": {
   "codemirror_mode": {
    "name": "ipython",
    "version": 3
   },
   "file_extension": ".py",
   "mimetype": "text/x-python",
   "name": "python",
   "nbconvert_exporter": "python",
   "pygments_lexer": "ipython3",
   "version": "3.10.6"
  },
  "orig_nbformat": 4
 },
 "nbformat": 4,
 "nbformat_minor": 2
}
